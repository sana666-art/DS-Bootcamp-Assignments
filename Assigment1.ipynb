{
  "nbformat": 4,
  "nbformat_minor": 0,
  "metadata": {
    "colab": {
      "provenance": [],
      "authorship_tag": "ABX9TyM9LJndzi1srwKID6ruv0PF",
      "include_colab_link": true
    },
    "kernelspec": {
      "name": "python3",
      "display_name": "Python 3"
    },
    "language_info": {
      "name": "python"
    }
  },
  "cells": [
    {
      "cell_type": "markdown",
      "metadata": {
        "id": "view-in-github",
        "colab_type": "text"
      },
      "source": [
        "<a href=\"https://colab.research.google.com/github/sana666-art/DS-Bootcamp-Assignments/blob/main/Assigment1.ipynb\" target=\"_parent\"><img src=\"https://colab.research.google.com/assets/colab-badge.svg\" alt=\"Open In Colab\"/></a>"
      ]
    },
    {
      "cell_type": "markdown",
      "source": [
        "question 01:\n",
        " Write a program to iterate the first 10 numbers, and in each iteration, print the sum of the current and previous number.\n"
      ],
      "metadata": {
        "id": "LWbE7a8YX_gd"
      }
    },
    {
      "cell_type": "code",
      "source": [
        "pre_num = 0\n",
        "for i in range(0,10):\n",
        "  cur_num = i\n",
        "  sum_of_pre_and_cur = pre_num + cur_num\n",
        "  pre_num = cur_num\n",
        "  print(sum_of_pre_and_cur)\n"
      ],
      "metadata": {
        "id": "omM1dqqOYzzw"
      },
      "execution_count": null,
      "outputs": []
    },
    {
      "cell_type": "markdown",
      "source": [
        "question 02: Print the following pattern 1\n",
        "2 2\n",
        "3 3 3\n",
        "4 4 4 4\n",
        "5 5 5 5 5"
      ],
      "metadata": {
        "id": "XH0Ukw8tYVgN"
      }
    },
    {
      "cell_type": "code",
      "source": [
        "for i in range(1, 6):\n",
        "    for j in range(i):\n",
        "        print(i, end=\" \")\n",
        "    print()"
      ],
      "metadata": {
        "id": "LyvRiUUCX2BI"
      },
      "execution_count": null,
      "outputs": []
    },
    {
      "cell_type": "markdown",
      "source": [
        "Question 03:\n",
        "List is given below:\n",
        "numbers = [12, 75, 150, 180, 145, 525, 50]\n",
        "Write a program to display only those numbers from a list that satisfy the following\n",
        "conditions\n",
        "i. The number must be divisible by five\n",
        "ii. If the number is greater than 150, then skip it and move to the next number\n",
        "iii. If the number is greater than 500, then stop the loop"
      ],
      "metadata": {
        "id": "7-rjBWX-a5Lb"
      }
    },
    {
      "cell_type": "code",
      "source": [
        "numbers = [12, 75, 150, 180, 145, 525, 50]\n",
        "\n",
        "for number in numbers:\n",
        "        if number % 5 == 0:\n",
        "          if number > 150:\n",
        "            continue\n",
        "\n",
        "          if number > 500:\n",
        "            break\n",
        "\n",
        "        print(number)"
      ],
      "metadata": {
        "id": "Z2WYT7Ila7Uh"
      },
      "execution_count": null,
      "outputs": []
    },
    {
      "cell_type": "markdown",
      "source": [
        "Question 04:\n",
        " Display Fibonacci series up to 10 terms\n"
      ],
      "metadata": {
        "id": "SGmZJQRacgyn"
      }
    },
    {
      "cell_type": "code",
      "source": [
        "\n",
        "num1, num2 = 0, 1\n",
        "count = 0\n",
        "n = int(input(\"Enter the number till the Fibonacci sequence, you want: \"))\n",
        "while count < n:\n",
        "    print(num1, end=\" \")\n",
        "    nth_term = num1 + num2\n",
        "    # Update values for the next iteration\n",
        "    num1 = num2\n",
        "    num2 = nth_term\n",
        "    count += 1\n"
      ],
      "metadata": {
        "id": "8MDuy99nc5kO"
      },
      "execution_count": null,
      "outputs": []
    },
    {
      "cell_type": "markdown",
      "source": [
        "Question 05:\n",
        "Write a program to use the loop to find the factorial of a given number.\n",
        "The factorial (symbol: !) means to multiply all whole numbers from the chosen number down to 1.\n",
        "For example: calculate the factorial of 5\n",
        "5! = 5 × 4 × 3 × 2 × 1 = 120\n"
      ],
      "metadata": {
        "id": "Q8wrscpcpxaT"
      }
    },
    {
      "cell_type": "code",
      "source": [
        "number = int(input(\"Enter a number to calculate its factorial: \"))\n",
        "\n",
        "factorial = 1\n",
        "\n",
        "if number < 0:\n",
        "    print(\"Factorial does not exist for negative numbers.\")\n",
        "elif number == 0:\n",
        "    print(\"The factorial of 0 is 1\")\n",
        "else:\n",
        "    for i in range(1, number + 1):\n",
        "        factorial *= i\n",
        "\n",
        "    print(f\"The factorial of {number} is: {factorial}\")\n"
      ],
      "metadata": {
        "id": "e054_psIq5G0"
      },
      "execution_count": null,
      "outputs": []
    },
    {
      "cell_type": "markdown",
      "source": [
        "Question 06:\n",
        "Write a program to iterate a given list and count the occurrence of each element and print to show the count of each element.\n",
        "sample_list = [11, 45, 8, 11, 23, 45, 23, 45, 89]"
      ],
      "metadata": {
        "id": "4t2KxCxLrTzx"
      }
    },
    {
      "cell_type": "code",
      "source": [
        "#here I used the concept of dictionary which will be easy to implement here, we also can use the loops and conditional statements here.\n",
        "sample_list = [11, 45, 8, 11, 23, 45, 23, 45, 89]\n",
        "occurrence = {}  # Corrected variable name and using a dictionary\n",
        "\n",
        "for element in sample_list:\n",
        "    if element in occurrence:\n",
        "        occurrence[element] += 1\n",
        "    else:\n",
        "        occurrence[element] = 1\n",
        "\n",
        "for key, value in occurrence.items():\n",
        "    print(f\"{key} occurs {value} times\")\n"
      ],
      "metadata": {
        "id": "BjJkAImArdGU"
      },
      "execution_count": null,
      "outputs": []
    },
    {
      "cell_type": "markdown",
      "source": [
        "Question 07: . Given two lists, l1 and l2, write a program to create a third list l3 by picking an\n",
        "odd-index element from the list l1 and even index elements from the list l2.\n",
        "Given:\n",
        "l1 = [3, 6, 9, 12, 15, 18, 21]\n",
        "l2 = [4, 8, 12, 16, 20, 24, 28]"
      ],
      "metadata": {
        "id": "69cTuq6gvuRV"
      }
    },
    {
      "cell_type": "code",
      "source": [
        "l1 = [3, 6, 9, 12, 15, 18, 21]\n",
        "l2 = [4, 8, 12, 16, 20, 24, 28]\n",
        "\n",
        "l3 = []\n",
        "\n",
        "for i in range(len(l1)):\n",
        "    if i % 2 != 0:\n",
        "        l3.append(l1[i])\n",
        "\n",
        "for i in range(len(l2)):\n",
        "    if i % 2 == 0:\n",
        "        l3.append(l2[i])\n",
        "\n",
        "print(\"Resultant List l3:\", l3)\n"
      ],
      "metadata": {
        "id": "tmsx9w4av5-_"
      },
      "execution_count": null,
      "outputs": []
    }
  ]
}